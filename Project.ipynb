{
 "cells": [
  {
   "cell_type": "code",
   "execution_count": 1,
   "id": "e57639fe-2712-4647-a55f-dfd24bd804e3",
   "metadata": {},
   "outputs": [
    {
     "name": "stdout",
     "output_type": "stream",
     "text": [
      "Loaded Data:\n",
      "   sand(%)  silt (%)  clay(%) Environment\n",
      "0       60        30       10  Lacustrine\n",
      "1       20        50       30    Fluvial \n",
      "2       10        40       50      Marine\n",
      "\n",
      "Classifier Accuracy: 0.00%\n",
      "\n",
      "Predicted Environment for 60% sand, 30% silt, 10% clay: Marine\n"
     ]
    },
    {
     "name": "stderr",
     "output_type": "stream",
     "text": [
      "C:\\ProgramData\\anaconda3\\Lib\\site-packages\\sklearn\\base.py:493: UserWarning: X does not have valid feature names, but DecisionTreeClassifier was fitted with feature names\n",
      "  warnings.warn(\n"
     ]
    }
   ],
   "source": [
    "import pandas as pd\n",
    "from sklearn.model_selection import train_test_split\n",
    "from sklearn.tree import DecisionTreeClassifier\n",
    "from sklearn.metrics import accuracy_score\n",
    "\n",
    "# Load the data\n",
    "file_path = 'Book1.csv'\n",
    "data = pd.read_csv(file_path)\n",
    "\n",
    "# Display the data\n",
    "print(\"Loaded Data:\")\n",
    "print(data)\n",
    "\n",
    "# Separate features (sand, silt, clay) and target (Environment)\n",
    "X = data[['sand(%)', 'silt (%)', 'clay(%)']]  # Features\n",
    "y = data['Environment']  # Target\n",
    "\n",
    "# Split the data into training and testing sets (optional, for evaluation)\n",
    "X_train, X_test, y_train, y_test = train_test_split(X, y, test_size=0.2, random_state=42)\n",
    "\n",
    "# Train a Decision Tree classifier\n",
    "classifier = DecisionTreeClassifier(random_state=42)\n",
    "classifier.fit(X_train, y_train)\n",
    "\n",
    "# Evaluate the classifier (optional)\n",
    "y_pred = classifier.predict(X_test)\n",
    "accuracy = accuracy_score(y_test, y_pred)\n",
    "print(f\"\\nClassifier Accuracy: {accuracy * 100:.2f}%\")\n",
    "\n",
    "# Function to predict environment based on grain size data\n",
    "def predict_environment(sand, silt, clay):\n",
    "    input_data = [[sand, silt, clay]]\n",
    "    prediction = classifier.predict(input_data)\n",
    "    return prediction[0]\n",
    "\n",
    "# Example usage\n",
    "sand_percent = 60\n",
    "silt_percent = 30\n",
    "clay_percent = 10\n",
    "\n",
    "predicted_environment = predict_environment(sand_percent, silt_percent, clay_percent)\n",
    "print(f\"\\nPredicted Environment for {sand_percent}% sand, {silt_percent}% silt, {clay_percent}% clay: {predicted_environment}\")"
   ]
  },
  {
   "cell_type": "code",
   "execution_count": null,
   "id": "58f07392-e565-4ac8-827f-de342eac855f",
   "metadata": {},
   "outputs": [],
   "source": []
  }
 ],
 "metadata": {
  "kernelspec": {
   "display_name": "Python 3 (ipykernel)",
   "language": "python",
   "name": "python3"
  },
  "language_info": {
   "codemirror_mode": {
    "name": "ipython",
    "version": 3
   },
   "file_extension": ".py",
   "mimetype": "text/x-python",
   "name": "python",
   "nbconvert_exporter": "python",
   "pygments_lexer": "ipython3",
   "version": "3.12.7"
  }
 },
 "nbformat": 4,
 "nbformat_minor": 5
}
